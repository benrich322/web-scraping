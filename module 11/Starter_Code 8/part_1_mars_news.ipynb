{
 "cells": [
  {
   "cell_type": "markdown",
   "metadata": {},
   "source": [
    "# Module 12 Challenge\n",
    "## Deliverable 1: Scrape Titles and Preview Text from Mars News"
   ]
  },
  {
   "cell_type": "code",
   "execution_count": 1,
   "metadata": {},
   "outputs": [],
   "source": [
    "# Import Splinter and BeautifulSoup\n",
    "from splinter import Browser\n",
    "from bs4 import BeautifulSoup as soup"
   ]
  },
  {
   "cell_type": "code",
   "execution_count": 2,
   "metadata": {
    "scrolled": true
   },
   "outputs": [],
   "source": [
    "browser = Browser('chrome')"
   ]
  },
  {
   "cell_type": "markdown",
   "metadata": {},
   "source": [
    "### Step 1: Visit the Website\n",
    "\n",
    "1. Use automated browsing to visit the [Mars news site](https://static.bc-edx.com/data/web/mars_news/index.html). Inspect the page to identify which elements to scrape.\n",
    "\n",
    "      > **Hint** To identify which elements to scrape, you might want to inspect the page by using Chrome DevTools."
   ]
  },
  {
   "cell_type": "code",
   "execution_count": 3,
   "metadata": {},
   "outputs": [],
   "source": [
    "# Visit the Mars news site\n",
    "url = 'https://static.bc-edx.com/data/web/mars_news/index.html'\n",
    "browser.visit(url)"
   ]
  },
  {
   "cell_type": "markdown",
   "metadata": {},
   "source": [
    "### Step 2: Scrape the Website\n",
    "\n",
    "Create a Beautiful Soup object and use it to extract text elements from the website."
   ]
  },
  {
   "cell_type": "code",
   "execution_count": 4,
   "metadata": {},
   "outputs": [],
   "source": [
    "# Create a Beautiful Soup object\n",
    "html = browser.html\n",
    "soup = soup(html, 'html.parser')"
   ]
  },
  {
   "cell_type": "code",
   "execution_count": 65,
   "metadata": {},
   "outputs": [],
   "source": [
    "# Extract all the text elements\n",
    "article_title = soup.find_all('div',attrs={'class': 'content_title'})\n",
    "article_preview = soup.find_all('div',attrs={'class': 'article_teaser_body'})\n"
   ]
  },
  {
   "cell_type": "code",
   "execution_count": 13,
   "metadata": {},
   "outputs": [
    {
     "data": {
      "text/plain": [
       "[]"
      ]
     },
     "execution_count": 13,
     "metadata": {},
     "output_type": "execute_result"
    }
   ],
   "source": [
    "articles = []\n",
    "\n",
    "for article in soup.find_all('article'):\n",
    "            title = article.find('h2').text.strip()\n",
    "            preview_text = article.find('p').text.strip()\n",
    "            articles.append({'title': title, 'preview_text': preview_text})\n",
    "articles"
   ]
  },
  {
   "cell_type": "markdown",
   "metadata": {},
   "source": [
    "### Step 3: Store the Results\n",
    "\n",
    "Extract the titles and preview text of the news articles that you scraped. Store the scraping results in Python data structures as follows:\n",
    "\n",
    "* Store each title-and-preview pair in a Python dictionary. And, give each dictionary two keys: `title` and `preview`. An example is the following:\n",
    "\n",
    "  ```python\n",
    "  {'title': \"NASA's MAVEN Observes Martian Light Show Caused by Major Solar Storm\", \n",
    "   'preview': \"For the first time in its eight years orbiting Mars, NASA’s MAVEN mission witnessed two different types of ultraviolet aurorae simultaneously, the result of solar storms that began on Aug. 27.\"\n",
    "  }\n",
    "  ```\n",
    "\n",
    "* Store all the dictionaries in a Python list.\n",
    "\n",
    "* Print the list in your notebook."
   ]
  },
  {
   "cell_type": "code",
   "execution_count": 25,
   "metadata": {},
   "outputs": [
    {
     "data": {
      "text/plain": [
       "\"NASA's MAVEN Observes Martian Light Show Caused by Major Solar Storm\""
      ]
     },
     "execution_count": 25,
     "metadata": {},
     "output_type": "execute_result"
    }
   ],
   "source": [
    "# Create an empty list to store the dictionaries\n",
    "article_list = []"
   ]
  },
  {
   "cell_type": "code",
   "execution_count": 76,
   "metadata": {},
   "outputs": [
    {
     "data": {
      "text/plain": [
       "{'title 15': \"SAM's Top 5 Discoveries Aboard NASA's Curiosity Rover at Mars\",\n",
       " 'preview_text 1': \"NASA's MAVEN Observes Martian Light Show Caused by Major Solar Storm\",\n",
       " 'preview_text 2': \"NASA Prepares to Say 'Farewell' to InSight Spacecraft\",\n",
       " 'preview_text 3': 'NASA and ESA Agree on Next Steps to Return Mars Samples to Earth',\n",
       " 'preview_text 4': \"NASA's InSight Lander Detects Stunning Meteoroid Impact on Mars\",\n",
       " 'preview_text 5': 'NASA To Host Briefing on InSight, Mars Reconnaissance Orbiter Findings',\n",
       " 'preview_text 6': 'Why NASA Is Trying To Crash Land on Mars',\n",
       " 'preview_text 7': 'Curiosity Mars Rover Reaches Long-Awaited Salty Region',\n",
       " 'preview_text 8': 'Mars Mission Shields Up for Tests',\n",
       " 'preview_text 9': \"NASA's InSight Waits Out Dust Storm\",\n",
       " 'preview_text 10': \"NASA's InSight 'Hears' Its First Meteoroid Impacts on Mars\",\n",
       " 'preview_text 11': \"NASA's Perseverance Rover Investigates Geologically Rich Mars Terrain\",\n",
       " 'preview_text 12': 'NASA to Host Briefing on Perseverance Mars Rover Mission Operations',\n",
       " 'preview_text 13': \"NASA's Perseverance Makes New Discoveries in Mars' Jezero Crater\",\n",
       " 'preview_text 14': \"10 Years Since Landing, NASA's Curiosity Mars Rover Still Has Drive\",\n",
       " 'preview_text 15': \"SAM's Top 5 Discoveries Aboard NASA's Curiosity Rover at Mars\"}"
      ]
     },
     "execution_count": 76,
     "metadata": {},
     "output_type": "execute_result"
    }
   ],
   "source": [
    "# Loop through the text elements\n",
    "# Using a for-loop\n",
    "dict_test = {}\n",
    "\n",
    "for index, article in enumerate(article_title, 1):\n",
    "    # Determine the key and value for each iteration\n",
    "    key_title = f'title {index}'\n",
    "    value_title_text = article.text\n",
    "\n",
    "    key_preview = f'preview_text {index}'\n",
    "    value_preview_text = article.text\n",
    "\n",
    "\n",
    "    # Add the key-value pair to the dictionary\n",
    "    dict_test[key] = value_title_text\n",
    "    dict_test[key_preview] = value_preview_text\n",
    "\n",
    "dict_test"
   ]
  },
  {
   "cell_type": "code",
   "execution_count": 71,
   "metadata": {},
   "outputs": [
    {
     "data": {
      "text/plain": [
       "{<div class=\"content_title\">NASA's MAVEN Observes Martian Light Show Caused by Major Solar Storm</div>: \"NASA's MAVEN Observes Martian Light Show Caused by Major Solar Storm\",\n",
       " <div class=\"content_title\">NASA Prepares to Say 'Farewell' to InSight Spacecraft</div>: \"NASA Prepares to Say 'Farewell' to InSight Spacecraft\",\n",
       " <div class=\"content_title\">NASA and ESA Agree on Next Steps to Return Mars Samples to Earth</div>: 'NASA and ESA Agree on Next Steps to Return Mars Samples to Earth',\n",
       " <div class=\"content_title\">NASA's InSight Lander Detects Stunning Meteoroid Impact on Mars</div>: \"NASA's InSight Lander Detects Stunning Meteoroid Impact on Mars\",\n",
       " <div class=\"content_title\">NASA To Host Briefing on InSight, Mars Reconnaissance Orbiter Findings</div>: 'NASA To Host Briefing on InSight, Mars Reconnaissance Orbiter Findings',\n",
       " <div class=\"content_title\">Why NASA Is Trying To Crash Land on Mars</div>: 'Why NASA Is Trying To Crash Land on Mars',\n",
       " <div class=\"content_title\">Curiosity Mars Rover Reaches Long-Awaited Salty Region</div>: 'Curiosity Mars Rover Reaches Long-Awaited Salty Region',\n",
       " <div class=\"content_title\">Mars Mission Shields Up for Tests</div>: 'Mars Mission Shields Up for Tests',\n",
       " <div class=\"content_title\">NASA's InSight Waits Out Dust Storm</div>: \"NASA's InSight Waits Out Dust Storm\",\n",
       " <div class=\"content_title\">NASA's InSight 'Hears' Its First Meteoroid Impacts on Mars</div>: \"NASA's InSight 'Hears' Its First Meteoroid Impacts on Mars\",\n",
       " <div class=\"content_title\">NASA's Perseverance Rover Investigates Geologically Rich Mars Terrain</div>: \"NASA's Perseverance Rover Investigates Geologically Rich Mars Terrain\",\n",
       " <div class=\"content_title\">NASA to Host Briefing on Perseverance Mars Rover Mission Operations</div>: 'NASA to Host Briefing on Perseverance Mars Rover Mission Operations',\n",
       " <div class=\"content_title\">NASA's Perseverance Makes New Discoveries in Mars' Jezero Crater</div>: \"NASA's Perseverance Makes New Discoveries in Mars' Jezero Crater\",\n",
       " <div class=\"content_title\">10 Years Since Landing, NASA's Curiosity Mars Rover Still Has Drive</div>: \"10 Years Since Landing, NASA's Curiosity Mars Rover Still Has Drive\",\n",
       " <div class=\"content_title\">SAM's Top 5 Discoveries Aboard NASA's Curiosity Rover at Mars</div>: \"SAM's Top 5 Discoveries Aboard NASA's Curiosity Rover at Mars\"}"
      ]
     },
     "execution_count": 71,
     "metadata": {},
     "output_type": "execute_result"
    }
   ],
   "source": [
    "# Print the list to confirm success\n",
    "article_title_dict = {title: title.text for title in article_title}\n",
    "article_prevew_list = [preview.text for preview in article_preview]\n",
    "article_title_dict"
   ]
  },
  {
   "cell_type": "code",
   "execution_count": null,
   "metadata": {},
   "outputs": [],
   "source": [
    "browser.quit()"
   ]
  },
  {
   "cell_type": "code",
   "execution_count": null,
   "metadata": {},
   "outputs": [],
   "source": []
  }
 ],
 "metadata": {
  "kernelspec": {
   "display_name": "Python 3 (ipykernel)",
   "language": "python",
   "name": "python3"
  },
  "language_info": {
   "codemirror_mode": {
    "name": "ipython",
    "version": 3
   },
   "file_extension": ".py",
   "mimetype": "text/x-python",
   "name": "python",
   "nbconvert_exporter": "python",
   "pygments_lexer": "ipython3",
   "version": "3.10.12"
  },
  "vscode": {
   "interpreter": {
    "hash": "31f2aee4e71d21fbe5cf8b01ff0e069b9275f58929596ceb00d14d90e3e16cd6"
   }
  }
 },
 "nbformat": 4,
 "nbformat_minor": 4
}
